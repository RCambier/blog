{
 "cells": [
  {
   "cell_type": "markdown",
   "source": [
    "# Random forest\n",
    "> \"Create random forest from scratch in Python\"\n",
    "\n",
    "- comments: true\n",
    "- badges: true\n",
    "- categories: [ai]\n",
    "- publishes: true"
   ],
   "metadata": {}
  },
  {
   "cell_type": "code",
   "execution_count": 75,
   "source": [
    "from sklearn.datasets import load_breast_cancer\n",
    "import pandas as pd\n",
    "import numpy as np\n",
    "from sklearn.tree import DecisionTreeClassifier\n",
    "from sklearn.metrics import f1_score\n",
    "import random"
   ],
   "outputs": [],
   "metadata": {}
  },
  {
   "cell_type": "code",
   "execution_count": 76,
   "source": [
    "raw = load_breast_cancer(return_X_y=True)\n",
    "\n",
    "X = pd.DataFrame(raw[0])\n",
    "y = pd.DataFrame(raw[1])"
   ],
   "outputs": [],
   "metadata": {
    "id": "fbeKwAVFuicN"
   }
  },
  {
   "cell_type": "code",
   "execution_count": 77,
   "source": [
    "features = X.columns\n",
    "n_features = len(features)\n",
    "n_features_to_consider = int(round(np.sqrt(n_features)))\n",
    "features, n_features_to_consider"
   ],
   "outputs": [
    {
     "output_type": "execute_result",
     "data": {
      "text/plain": [
       "(RangeIndex(start=0, stop=30, step=1), 5)"
      ]
     },
     "metadata": {},
     "execution_count": 77
    }
   ],
   "metadata": {}
  },
  {
   "cell_type": "code",
   "execution_count": 78,
   "source": [
    "trees = []\n",
    "\n",
    "for i in range(10): \n",
    "    feature_subset = random.sample(features.values.tolist(), k=n_features_to_consider)\n",
    "    tree = DecisionTreeClassifier(max_depth=2)\n",
    "    sampling_index = X.sample(frac=1).index # RANDOMly select data to train on \n",
    "    tree.fit(X.loc[sampling_index, feature_subset], y.loc[sampling_index]) # RANDOMly select features to train on\n",
    "    trees.append((tree, feature_subset))"
   ],
   "outputs": [],
   "metadata": {}
  },
  {
   "cell_type": "code",
   "execution_count": 79,
   "source": [
    "rf_predictions = np.mean([tree.predict(X.loc[:, features]) for tree, features in trees], axis=0)"
   ],
   "outputs": [],
   "metadata": {}
  },
  {
   "cell_type": "code",
   "execution_count": 80,
   "source": [
    "# The precision of a single tree\n",
    "for i in range(5):\n",
    "    one_tree_predictions = trees[i][0].predict(X.loc[:, trees[i][1]])\n",
    "    print(f1_score(y, one_tree_predictions) )"
   ],
   "outputs": [
    {
     "output_type": "stream",
     "name": "stdout",
     "text": [
      "0.9195088676671215\n",
      "0.9346879535558781\n",
      "0.9439124487004104\n",
      "0.9482517482517482\n",
      "0.9410187667560322\n"
     ]
    }
   ],
   "metadata": {}
  },
  {
   "cell_type": "code",
   "execution_count": 81,
   "source": [
    "# The precision of the forest\n",
    "f1_score(y, (rf_predictions > 0.5) * 1)"
   ],
   "outputs": [
    {
     "output_type": "execute_result",
     "data": {
      "text/plain": [
       "0.9665738161559889"
      ]
     },
     "metadata": {},
     "execution_count": 81
    }
   ],
   "metadata": {}
  }
 ],
 "metadata": {
  "orig_nbformat": 4,
  "language_info": {
   "name": "python",
   "version": "3.8.2",
   "mimetype": "text/x-python",
   "codemirror_mode": {
    "name": "ipython",
    "version": 3
   },
   "pygments_lexer": "ipython3",
   "nbconvert_exporter": "python",
   "file_extension": ".py"
  },
  "kernelspec": {
   "name": "python3",
   "display_name": "Python 3.8.2 64-bit ('base': conda)"
  },
  "interpreter": {
   "hash": "fd589ee5ced0891cb656c7a70d902ac388d33fb7278304a3342d085a5b2186d0"
  }
 },
 "nbformat": 4,
 "nbformat_minor": 2
}