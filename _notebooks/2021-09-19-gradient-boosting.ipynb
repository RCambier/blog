{
  "nbformat": 4,
  "nbformat_minor": 2,
  "metadata": {
    "colab": {
      "name": "AI basics.ipynb",
      "provenance": [],
      "toc_visible": true
    },
    "kernelspec": {
      "name": "python3",
      "display_name": "Python 3.8.2 64-bit ('base': conda)"
    },
    "language_info": {
      "name": "python",
      "version": "3.8.2",
      "mimetype": "text/x-python",
      "codemirror_mode": {
        "name": "ipython",
        "version": 3
      },
      "pygments_lexer": "ipython3",
      "nbconvert_exporter": "python",
      "file_extension": ".py"
    },
    "interpreter": {
      "hash": "fd589ee5ced0891cb656c7a70d902ac388d33fb7278304a3342d085a5b2186d0"
    }
  },
  "cells": [
    {
      "cell_type": "markdown",
      "source": [
        "# Gradient boosting\n",
        "> Gradient boosting algorithm from scratch\n",
        "\n",
        "- comments: true\n",
        "- badges: true\n",
        "- categories: [ai]\n",
        "- publishes: true"
      ],
      "metadata": {}
    },
    {
      "cell_type": "markdown",
      "source": [
        "# Gradient boosting"
      ],
      "metadata": {
        "id": "wSvvbE776al1"
      }
    }
  ]
}