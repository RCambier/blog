{
 "cells": [
  {
   "cell_type": "markdown",
   "metadata": {},
   "source": [
    "# Easy way to queue a job in the terminal\n",
    "> How to use background jobs to quickly queue a job after a running command\n",
    "\n",
    "- comments: true\n",
    "- badges: true\n",
    "- categories: [random, system]\n",
    "- publishes: true"
   ]
  },
  {
   "cell_type": "markdown",
   "metadata": {},
   "source": [
    "There is a small trick I love to use when running long commands in my terminal. \n",
    "\n",
    "To run a job in the background, you can append `&` to the end of it. But what if you just started running a command, and you now realize you wanted to queue another command after it? Since you forgot to add `&`, it's now running in the foreground in your terminal and it's not easy to queue another job after it. Well, here is how to do it:\n",
    "\n",
    "1. You run your first command without adding the `&` at the end, for example \n",
    "```bash\n",
    "for i in {1..5}; do sleep 1; done\n",
    "```\n",
    "\n",
    "2. You use `CTRL + Z` to pause that job and put it in the background\n",
    "\n",
    "3. You use `fg && [new command]` in order to put that job back to the foreground and queue another job to it. "
   ]
  },
  {
   "cell_type": "markdown",
   "metadata": {},
   "source": [
    "# Using the `jobs` feature\n",
    "\n",
    "This is using the foreground/background job feature of the terminal. \n",
    "[Here](https://www.digitalocean.com/community/tutorials/how-to-use-bash-s-job-control-to-manage-foreground-and-background-processes) is a more detailed tutorial.\n",
    "\n",
    "To summarize the few command I use: \n",
    "- `CTRL + Z` to put a job in the background\n",
    "- `jobs` to have a look at all the jobs\n",
    "- `fg` to put the last bakgrounded process back to the foreground\n",
    "- `fg %2` to put another job back to the foreground\n",
    "- `kill %2` to kill job number 2"
   ]
  },
  {
   "cell_type": "markdown",
   "metadata": {},
   "source": []
  }
 ],
 "metadata": {
  "language_info": {
   "name": "python"
  },
  "orig_nbformat": 4
 },
 "nbformat": 4,
 "nbformat_minor": 2
}
