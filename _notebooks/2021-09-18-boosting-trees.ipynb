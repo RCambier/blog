{
  "nbformat": 4,
  "nbformat_minor": 2,
  "metadata": {
    "colab": {
      "name": "AI basics.ipynb",
      "provenance": [],
      "toc_visible": true
    },
    "kernelspec": {
      "name": "python3",
      "display_name": "Python 3.8.2 64-bit ('base': conda)"
    },
    "language_info": {
      "name": "python",
      "version": "3.8.2",
      "mimetype": "text/x-python",
      "codemirror_mode": {
        "name": "ipython",
        "version": 3
      },
      "pygments_lexer": "ipython3",
      "nbconvert_exporter": "python",
      "file_extension": ".py"
    },
    "interpreter": {
      "hash": "fd589ee5ced0891cb656c7a70d902ac388d33fb7278304a3342d085a5b2186d0"
    }
  },
  "cells": [
    {
      "cell_type": "markdown",
      "source": [
        "# Boosting trees\n",
        "> \"Simple boosting trees in python from scratch\"\n",
        "\n",
        "- comments: true\n",
        "- badges: true\n",
        "- categories: [ai]\n",
        "- publishes: true"
      ],
      "metadata": {}
    },
    {
      "cell_type": "markdown",
      "source": [
        "# Boosting trees"
      ],
      "metadata": {
        "id": "cELsxC2Su_o8"
      }
    },
    {
      "cell_type": "code",
      "execution_count": 1,
      "source": [
        "from sklearn.datasets import load_wine, load_breast_cancer\n",
        "import pandas as pd\n",
        "import numpy as np\n",
        "from sklearn.tree import DecisionTreeClassifier, DecisionTreeRegressor\n",
        "from sklearn.model_selection import cross_val_score\n",
        "from sklearn.metrics import f1_score"
      ],
      "outputs": [],
      "metadata": {
        "id": "Q9iIbM3fnJiC"
      }
    },
    {
      "cell_type": "code",
      "execution_count": 2,
      "source": [
        "raw = load_breast_cancer(return_X_y=True)\n",
        "\n",
        "X = pd.DataFrame(raw[0])\n",
        "y = pd.DataFrame(raw[1])"
      ],
      "outputs": [],
      "metadata": {
        "id": "fbeKwAVFuicN"
      }
    },
    {
      "cell_type": "code",
      "execution_count": 34,
      "source": [
        "initial_prediction_proba = y.mean() \n",
        "initial_prediction_classes = round(initial_prediction_proba)\n",
        "initial_prediction_logodds = np.log(initial_prediction_proba / (1-initial_prediction_proba))\n",
        "proba_residuals = (y - initial_prediction_proba).values.reshape(-1)\n",
        "\n",
        "print(\"Score with mean: \", f1_score(y, [initial_prediction_classes[0]]*len(y)))\n",
        "\n",
        "trees = []\n",
        "for i in range(5): \n",
        "\n",
        "  # Train a tree on the latest residuals\n",
        "  tree = DecisionTreeRegressor(max_depth=1)\n",
        "  tree.fit(X, proba_residuals)\n",
        "  trees.append(tree)\n",
        "\n",
        "  # Compute the predictions of the trees\n",
        "  predictions = np.array(y.mean())\n",
        "  for tree in trees: \n",
        "    predictions = predictions + tree.predict(X).reshape(-1) # Each tree tries to predict the error. \n",
        "\n",
        "  # Get the new residuals. This is what we fit the next tree on\n",
        "  proba_residuals = y.values.reshape(-1) - predictions\n",
        "\n",
        "predictions = np.array(y.mean())\n",
        "for tree in trees: \n",
        "  predictions = tree.predict(X).reshape(-1) + predictions\n",
        "print(\"Score with boosting: \", f1_score(y, 1 * (predictions > 0.5)))"
      ],
      "outputs": [
        {
          "output_type": "stream",
          "name": "stdout",
          "text": [
            "Score with mean:  0.7710583153347732\n",
            "Score with boosting:  0.947945205479452\n"
          ]
        }
      ],
      "metadata": {
        "colab": {
          "base_uri": "https://localhost:8080/"
        },
        "id": "PSm5xGcCvY8T",
        "outputId": "7d61722f-0f00-4234-8542-71f70d45e5b8"
      }
    }
  ]
}